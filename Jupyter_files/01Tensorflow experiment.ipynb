{
 "cells": [
  {
   "cell_type": "markdown",
   "metadata": {},
   "source": [
    "# 1\tHello, TensorFlow!\n",
    "This experiment introduces the function of sessions by outputting \"Hello, TensorFlow!\"."
   ]
  },
  {
   "cell_type": "markdown",
   "metadata": {},
   "source": [
    "1.1.2\tObjectives of the Experiment  \n",
    "\tUnderstand the definition of sessions.  \n",
    "\tUnderstand how to create a session.  "
   ]
  },
  {
   "cell_type": "markdown",
   "metadata": {},
   "source": [
    "1.1.3\tExperiment Content\n",
    "Two data flow mechanisms are involved in the interaction between a session and a graph.\n",
    "Feed mechanism: Transmit data into the graph by placeholders.\n",
    "Fetch mechanism: Retrieve the result of an operation in the graph.\n",
    "This experiment introduces the function of sessions by creating a session.\n",
    "Create a session and output \"Hello, TensorFlow!\" in the session."
   ]
  },
  {
   "cell_type": "markdown",
   "metadata": {},
   "source": [
    "# 1.2\tExperimental Process"
   ]
  },
  {
   "cell_type": "code",
   "execution_count": 1,
   "metadata": {},
   "outputs": [
    {
     "name": "stdout",
     "output_type": "stream",
     "text": [
      "b'Hello, TensorFlow!'\n"
     ]
    }
   ],
   "source": [
    "#1.2.1\tSetting Encoding Declarations\n",
    "# -*- coding: utf-8 -*-\n",
    "#1.2.2\tImporting a Module\n",
    "import tensorflow as tf\n",
    "#1.2.3\tDefining Variables\n",
    "hello = tf.constant('Hello, TensorFlow!')  #Define a constant.\n",
    "#1.2.4\tCreating a Session\n",
    "sess = tf.Session()                            #Create a session.\n",
    "print (sess.run(hello))                        #Run the command session.run to get the result.\n",
    "#1.2.5\tClosing the Session\n",
    "sess.close()                                     #Close the session."
   ]
  },
  {
   "cell_type": "markdown",
   "metadata": {},
   "source": [
    "1.3\tInstance Description\n",
    "tf.constant defines a constant. The content after hello can only be returned by the session.run command.\n",
    " "
   ]
  },
  {
   "cell_type": "markdown",
   "metadata": {},
   "source": [
    "# 2\tSession"
   ]
  },
  {
   "cell_type": "markdown",
   "metadata": {},
   "source": [
    "2.1\tIntroduction to the Experiment  \n",
    "2.1.1\tAbout the Experiment  \n",
    "This experiment introduces the function of sessions by enabling a session using the withsession syntax.  \n",
    "2.1.2\tObjectives of the Experiment  \n",
    "\tUnderstand the definition of sessions. \n",
    "\tUnderstand how to use the withsession syntax to create a session.  \n",
    "2.1.3\tExperiment Content  \n",
    "The syntax withsession is the most commonly used one for enabling a session. It adopts the with syntax in Python which allows a session to close automatically upon termination of a program without requiring the close command.  "
   ]
  },
  {
   "cell_type": "code",
   "execution_count": 2,
   "metadata": {},
   "outputs": [
    {
     "name": "stdout",
     "output_type": "stream",
     "text": [
      "Add:  7\n",
      "Multiply:  12\n"
     ]
    }
   ],
   "source": [
    "#2.2\tExperimental Process\n",
    "#2.2.1\tSetting Encoding Declarations\n",
    "# -*- coding: utf-8 -*-\n",
    "#2.2.2\tImporting a Module\n",
    "import tensorflow as tf\n",
    "#2.2.3\tDefining Constants\n",
    "a = tf.constant(3)                     #Defining constant 3.\n",
    "b = tf.constant(4)                     #Defining constant 4.\n",
    "#2.2.4\tCreating a Session\n",
    "with tf.Session() as sess:           #Create a session.\n",
    "    print(\"Add:  %i\" % sess.run(a+b))     #Calculate and output the sum of the two constants\n",
    "\n",
    "    print (\"Multiply:  %i\" % sess.run(a*b))     #Calculate and output the product of the two constants."
   ]
  },
  {
   "cell_type": "markdown",
   "metadata": {},
   "source": [
    "2.3\tInstance Description\n",
    "Use the withsession syntax to create a session. Calculate and output the sum and product of two constants (3 and 4). "
   ]
  },
  {
   "cell_type": "markdown",
   "metadata": {},
   "source": [
    "# 3\tMatrix Multiplication"
   ]
  },
  {
   "cell_type": "markdown",
   "metadata": {},
   "source": [
    "3.1\tIntroduction to the Experiment  \n",
    "3.1.1\tAbout the Experiment  \n",
    "This experiment introduces the tensor of TensorFlow to help you understand the use of matrix multiplication functions.  \n",
    "3.1.2\tObjectives of the Experiment  \n",
    "\tUnderstand the tensor of TensorFlow.  \n",
    "\tUnderstand how to use TensorFlow to multiply matrixes.  \n",
    "3.1.3\tExperiment Content  \n",
    "In TensorFlow, you can use the tf.matmul() command to multiply matrixes. However, it cannot be used to multiply a matrix by a vector. This experiment introduces the matrix multiplication of TensorFlow.  "
   ]
  },
  {
   "cell_type": "code",
   "execution_count": 3,
   "metadata": {},
   "outputs": [
    {
     "name": "stdout",
     "output_type": "stream",
     "text": [
      "[[3.1758733]]\n"
     ]
    }
   ],
   "source": [
    "#3.2\tExperimental Process\n",
    "#3.2.1\tSetting Encoding Declarations\n",
    "# -*- coding: utf-8 -*-\n",
    "#3.2.2\tImporting a Module\n",
    "import tensorflow as tf\n",
    "#3.2.3\tStarting a TensorFlow Default Session\n",
    "#Tensorflow default session.\n",
    "sess = tf.InteractiveSession()\n",
    "#3.2.4\tCreating Matrix Variables\n",
    "#Create two matrix variables w1 and w2.\n",
    "#tf.random_normal(shape,\n",
    "#                 mean=0.0,\n",
    "#                 stddev=1.0,\n",
    "#                 dtype=dtypes.float32,\n",
    "#                 seed=None,\n",
    "#                 name=None)\n",
    "#A random normal distribution is generated.\n",
    "#shape stands for the matrix dimension. For example,\n",
    "#tf.random_normal([2,3],mean=1.0, stddev=1.0) is a matrix of two rows and three columns.\n",
    "#mean stands for an average. Its default value is 0.0. stddev stands for standard deviation. Its default value is 1.0.\n",
    "#seed stands for random seed. Its default value is None.\n",
    "w1 = tf.Variable(tf.random_normal([2,3],mean=1.0, stddev=1.0))\n",
    "w2 = tf.Variable(tf.random_normal([3,1],mean=1.0, stddev=1.0))\n",
    "#3.2.5\tDefining a Constant Matrix\n",
    "#Define a two-dimension constant matrix (not a one-dimensional array).\n",
    "x = tf.constant([[0.7, 0.9]])\n",
    "#3.2.6\tInitializing Global Variables\n",
    "#Initialize global variables. This step initializes variables w1 and w2 only as these two variables have not been initialized (tensors of them have been defined in previous steps).\n",
    "tf.global_variables_initializer().run()\n",
    "#3.2.7\tMatrix Multiplication\n",
    "#Multiply matrixes a= x*w1 For information about matrix multiplication, see linear algebra.\n",
    "a = tf.matmul(x ,w1)\n",
    "#Multiply matrixes y=a*w2\n",
    "y = tf.matmul(a, w2)\n",
    "#The output computation result is a two-dimension matrix of one row and one column.\n",
    "print(y.eval())"
   ]
  },
  {
   "cell_type": "markdown",
   "metadata": {},
   "source": [
    "3.3\tInstance Description  \n",
    "3.3.1\tInstance Description  \n",
    "Use the withsession syntax to create a session and multiply matrixes in the session.  \n",
    " "
   ]
  },
  {
   "cell_type": "markdown",
   "metadata": {},
   "source": [
    "# 4\tDefinition of Variables"
   ]
  },
  {
   "cell_type": "markdown",
   "metadata": {},
   "source": [
    "4.1\tIntroduction to the Experiment  \n",
    "4.1.1\tAbout the Experiment  \n",
    "In this experiment, you can understand the use of variables by creating variables (nodes) with the tf.Variable function.  \n",
    "4.1.2\tObjectives of the Experiment  \n",
    "\tUnderstand the tf.Variable and the get_variable functions. Use the get_variable function to get variables.  \n",
    "\tUnderstand the difference between the tf.Variable and the get_variable functions.  \n",
    "4.1.3\tExperiment Content  \n",
    "In this experiment, you can understand the use of the tf.Variable and the get_variable functions and the difference between them.  "
   ]
  },
  {
   "cell_type": "code",
   "execution_count": 4,
   "metadata": {},
   "outputs": [
    {
     "name": "stderr",
     "output_type": "stream",
     "text": [
      "WARNING: Logging before flag parsing goes to stderr.\n",
      "W0815 22:32:15.176987 20448 deprecation.py:506] From D:\\APPs\\Anaconda\\envs\\Jeary_lab\\lib\\site-packages\\tensorflow\\python\\ops\\init_ops.py:1251: calling VarianceScaling.__init__ (from tensorflow.python.ops.init_ops) with dtype is deprecated and will be removed in a future version.\n",
      "Instructions for updating:\n",
      "Call initializer instance with the dtype argument instead of passing it to the constructor\n"
     ]
    },
    {
     "name": "stdout",
     "output_type": "stream",
     "text": [
      "var1: varname:0\n"
     ]
    }
   ],
   "source": [
    "#4.2\tExperimental Process\n",
    "#4.2.1\tSetting Encoding Declarations\n",
    "# -*- coding: utf-8 -*-\n",
    "#4.2.2\tImporting a Module\n",
    "import tensorflow as tf\n",
    "#4.2.3\tResetting the Computation Graph\n",
    "tf.reset_default_graph()\n",
    "#4.2.4\tDefining Variables\n",
    "var1 = tf.Variable(10.0 , name=\"varname\")\n",
    "var2 = tf.Variable(11.0 , name=\"varname\")\n",
    "var3 = tf.Variable(12.0 )\n",
    "var4 = tf.Variable(13.0 )\n",
    "#4.2.5\tDefining get_variable\n",
    "with tf.variable_scope(\"test1\"):\n",
    "    var5 = tf.get_variable(\"varname\",shape=[2],dtype=tf.float32)\n",
    "with tf.variable_scope(\"test2\"):\n",
    "    var6 = tf.get_variable(\"varname\",shape=[2],dtype=tf.float32)\n",
    "#4.2.6\tOutputting Variables\n",
    "print(\"var1:\",var1.name)   #print variable 1"
   ]
  },
  {
   "cell_type": "code",
   "execution_count": 5,
   "metadata": {},
   "outputs": [
    {
     "name": "stdout",
     "output_type": "stream",
     "text": [
      "var2: varname_1:0\n"
     ]
    }
   ],
   "source": [
    "print(\"var2:\",var2.name)   #print variable 2"
   ]
  },
  {
   "cell_type": "code",
   "execution_count": 6,
   "metadata": {},
   "outputs": [
    {
     "name": "stdout",
     "output_type": "stream",
     "text": [
      "var3: Variable:0\n"
     ]
    }
   ],
   "source": [
    "print(\"var3:\",var3.name)   #print variable 3"
   ]
  },
  {
   "cell_type": "code",
   "execution_count": 7,
   "metadata": {},
   "outputs": [
    {
     "name": "stdout",
     "output_type": "stream",
     "text": [
      "var4: Variable_1:0\n"
     ]
    }
   ],
   "source": [
    "print(\"var4:\",var4.name)   #print variable 4"
   ]
  },
  {
   "cell_type": "code",
   "execution_count": 8,
   "metadata": {},
   "outputs": [
    {
     "name": "stdout",
     "output_type": "stream",
     "text": [
      "var5: test1/varname:0\n"
     ]
    }
   ],
   "source": [
    "print(\"var5:\",var5.name)   #print get_variable 1"
   ]
  },
  {
   "cell_type": "code",
   "execution_count": 9,
   "metadata": {},
   "outputs": [
    {
     "name": "stdout",
     "output_type": "stream",
     "text": [
      "var6: test2/varname:0\n"
     ]
    }
   ],
   "source": [
    "print(\"var6:\",var6.name)   #print get_variable 2"
   ]
  },
  {
   "cell_type": "markdown",
   "metadata": {},
   "source": [
    "# 5 Visualization of TensorBoard"
   ]
  },
  {
   "cell_type": "markdown",
   "metadata": {},
   "source": [
    "Introduction to the Experiment  \n",
    "5.1\tAbout the Experiment  \n",
    "This experiment shows the visualization of TensorBoard.  \n",
    "5.2\tObjectives of the Experiment  \n",
    "Understand the virtualization tool TensorBoard.  \n",
    "5.3\tExperiment Content  \n",
    "TensorFlow provides a virtualization tool, that is, TensorBoard. This tool can show receipt data of the training process, including the scalar, picture, audio, computation graph, data distribution, column diagram, and embedded vector. You can observe the model structure and parameter variation in the training on the website. TensorBoard is a log display system. When you run a graph in a session, it aggregates all types of data needs and outputs them into log files. Enable TensorBoard to read the log files and enable the 6060 port to provide web services so that users can view data via a browser.  "
   ]
  },
  {
   "cell_type": "code",
   "execution_count": 12,
   "metadata": {},
   "outputs": [],
   "source": [
    "#5.4\tExperimental Process\n",
    "#5.4.1\tSetting Encoding Declarations\n",
    "# -*- coding: utf-8 -*-\n",
    "#5.4.2\tImporting a Module\n",
    "import tensorflow as tf\n",
    "import numpy as np\n",
    "import matplotlib.pyplot as plt\n",
    "\n",
    "plotdata = { \"batchsize\":[], \"loss\":[] }\n",
    "def moving_average(a, w=10):\n",
    "    if len(a) < w:\n",
    "        return a[:]\n",
    "    return [val if idx < w else sum(a[(idx-w):idx])/w for idx, val in enumerate(a)]"
   ]
  },
  {
   "cell_type": "code",
   "execution_count": 13,
   "metadata": {},
   "outputs": [],
   "source": [
    "#5.4.3\tGenerating Analog Data\n",
    "# Generate analog data.\n",
    "train_X = np.linspace(-1, 1, 100)\n",
    "train_Y = 2*train_X + np.random.randn(*train_X.shape)*0.3 # y=2x, but some noise is added.\n",
    "#5.4.4\tResetting the Computation Graph\n",
    "#Display the graph.\n",
    "# plt.plot(train_X, train_Y, 'ro', label='Original data')\n",
    "# plt.legend()\n",
    "plt.show()\n",
    "tf.reset_default_graph()"
   ]
  },
  {
   "cell_type": "code",
   "execution_count": 14,
   "metadata": {},
   "outputs": [],
   "source": [
    "#5.4.5\tCreating a Model\n",
    "#Create a model.\n",
    "#Placeholders\n",
    "X = tf.placeholder(\"float\")\n",
    "Y = tf.placeholder(\"float\")\n",
    "\n",
    "#Model parameters\n",
    "W = tf.Variable(tf.random_normal([1]), name=\"weight\")\n",
    "b = tf.Variable(tf.zeros([1]), name=\"bias\")"
   ]
  },
  {
   "cell_type": "code",
   "execution_count": 15,
   "metadata": {},
   "outputs": [
    {
     "data": {
      "text/plain": [
       "<tf.Tensor 'z:0' shape=() dtype=string>"
      ]
     },
     "execution_count": 15,
     "metadata": {},
     "output_type": "execute_result"
    }
   ],
   "source": [
    "#5.4.6\tCreating a Forward Structure\n",
    "#A forward structure\n",
    "z = tf.multiply(X, W)+ b\n",
    "tf.summary.histogram('z',z)#Display predicted values in a histogram."
   ]
  },
  {
   "cell_type": "code",
   "execution_count": 16,
   "metadata": {},
   "outputs": [],
   "source": [
    "#5.4.7\tReverse Optimization\n",
    "#Reverse optimization\n",
    "cost =tf.reduce_mean(tf.square(Y - z))\n",
    "tf.summary.scalar('loss_function', cost)#Show the loss by scalars.\n",
    "learning_rate = 0.01\n",
    "#Gradient descent\n",
    "optimizer = tf.train.GradientDescentOptimizer(learning_rate).minimize(cost)"
   ]
  },
  {
   "cell_type": "code",
   "execution_count": 17,
   "metadata": {},
   "outputs": [],
   "source": [
    "#5.4.8\tInitializing Variables\n",
    "#Initialize variables.\n",
    "init = tf.global_variables_initializer()\n",
    "\n",
    "#Set parameters.\n",
    "training_epochs = 20\n",
    "display_step = 2"
   ]
  },
  {
   "cell_type": "code",
   "execution_count": 18,
   "metadata": {},
   "outputs": [
    {
     "name": "stdout",
     "output_type": "stream",
     "text": [
      "Epoch: 1 cost= 1.8545991 W= [0.03720853] b= [0.6242781]\n",
      "Epoch: 3 cost= 0.22612448 W= [1.5294709] b= [0.22789842]\n",
      "Epoch: 5 cost= 0.09253153 W= [1.9344991] b= [0.07543716]\n",
      "Epoch: 7 cost= 0.08367197 W= [2.0395498] b= [0.03517442]\n",
      "Epoch: 9 cost= 0.08312979 W= [2.0667183] b= [0.02474951]\n",
      "Epoch: 11 cost= 0.08310666 W= [2.0737438] b= [0.0220536]\n",
      "Epoch: 13 cost= 0.0831085 W= [2.0755577] b= [0.02135729]\n",
      "Epoch: 15 cost= 0.08310949 W= [2.0760279] b= [0.02117692]\n",
      "Epoch: 17 cost= 0.08310979 W= [2.0761483] b= [0.02113065]\n",
      "Epoch: 19 cost= 0.08310988 W= [2.0761807] b= [0.02111835]\n",
      " Finished!\n",
      "cost= 0.08310989 W= [2.0761864] b= [0.02111608]\n",
      "cost: 0.08310989\n"
     ]
    },
    {
     "data": {
      "image/png": "[encoded data removed]",
      "text/plain": [
       "<Figure size 432x288 with 1 Axes>"
      ]
     },
     "metadata": {
      "needs_background": "light"
     },
     "output_type": "display_data"
    }
   ],
   "source": [
    "#5.4.9\tStarting a Session\n",
    "#Start a session.\n",
    "with tf.Session() as sess:\n",
    "    sess.run(init)\n",
    "#Merge all summaries.\n",
    "    merged_summary_op = tf.summary.merge_all()\n",
    "#Create summary writer for file writing.\n",
    "    summary_writer = tf.summary.FileWriter('log/mnist_with_summaries',sess.graph)\n",
    "\n",
    "#5.4.10\tWriting Data to the Model\n",
    "#Write data to the model.\n",
    "    for epoch in range(training_epochs):\n",
    "        for (x, y) in zip(train_X, train_Y):\n",
    "            sess.run(optimizer, feed_dict={X: x, Y: y})\n",
    "\n",
    "#Generate a summary.\n",
    "            summary_str = sess.run(merged_summary_op,feed_dict={X: x, Y: y});\n",
    "            summary_writer.add_summary(summary_str, epoch);#Write summary to files.\n",
    "\n",
    "#Display all detailed information of training.\n",
    "        if epoch % display_step == 0:\n",
    "            loss = sess.run(cost, feed_dict={X: train_X, Y:train_Y})\n",
    "            print (\"Epoch:\", epoch+1, \"cost=\", loss,\"W=\", sess.run(W), \"b=\", sess.run(b))\n",
    "            if not (loss == \"NA\" ):\n",
    "                plotdata[\"batchsize\"].append(epoch)\n",
    "                plotdata[\"loss\"].append(loss)\n",
    "\n",
    "    print (\" Finished!\")\n",
    "    print (\"cost=\", sess.run(cost, feed_dict={X: train_X, Y: train_Y}), \"W=\", sess.run(W), \"b=\", sess.run(b))\n",
    "    print (\"cost:\",cost.eval({X: train_X, Y: train_Y}))\n",
    "\n",
    "#5.4.11\tGraphical Display\n",
    "#Visualized results:\n",
    "    plt.plot(train_X, train_Y, 'ro', label='Original data')\n",
    "    plt.plot(train_X, sess.run(W) * train_X + sess.run(b), label='Fitted line')\n",
    "plt.legend()\n",
    "plt.show()"
   ]
  },
  {
   "cell_type": "code",
   "execution_count": 19,
   "metadata": {},
   "outputs": [
    {
     "data": {
      "image/png": "[encoded data removed]",
      "text/plain": [
       "<Figure size 432x288 with 1 Axes>"
      ]
     },
     "metadata": {
      "needs_background": "light"
     },
     "output_type": "display_data"
    }
   ],
   "source": [
    "plotdata[\"avgloss\"] = moving_average(plotdata[\"loss\"])\n",
    "plt.figure(1)\n",
    "plt.subplot(211)\n",
    "plt.plot(plotdata[\"batchsize\"], plotdata[\"avgloss\"], 'b--')\n",
    "plt.xlabel('Minibatch number')\n",
    "plt.ylabel('Loss')\n",
    "plt.title('Minibatch run vs. Training loss')\n",
    "plt.show()\n",
    "sess.close()\n",
    "#Test on model results:\n",
    "#print(\"x=0.2, z=\", sess.run(z, feed_dict={X: 0.2}))"
   ]
  },
  {
   "cell_type": "markdown",
   "metadata": {},
   "source": [
    "4.5\tInstance Description\n",
    "After running the code, the displayed result is the same as before, but there is a new folder log under the generated directory. This folder has a sub-folder mnist_with_summaries, which contains a file events.out.tfevents.1525835939. Click Start | Run. Enter cmd to launch a command-line process. Enter the following commands in the upper path of the summary log:\n",
    "tensorBoard -logdir D:\\Project\\HCNA-AI-ENG\\log\\mnist_with_summaries\n",
    "The following result is displayed:\n",
    "TensorBoard 1.8.0 at http://DWX536903:6006 (Press CTRL+C to quit)\n",
    "Enter the above URL in Chrome browser. The interface shown in Figure 5-2 is displayed.\n",
    "The Chrome browser is recommended.\n",
    "To start TensorBoard by commands, you need to access the upper path of the log first. Otherwise, you cannot find the created information on the website.\n",
    "\n",
    " "
   ]
  },
  {
   "cell_type": "markdown",
   "metadata": {},
   "source": [
    "# 3 Data Reading and Processing\n",
    "4.6\tIntroduction to the Experiment\n",
    "4.6.1\tAbout the Experiment\n",
    "The official website of TensorFlow provides three ways of data reading, including providing data, reading data from files, and preloading data. This experiment mainly adopts reading data from files.\n",
    "4.6.2\tObjectives of the Experiment\n",
    "Understand how TensorFlow reads data.\n",
    "Understand how to read data from files.\n",
    "4.6.3\tExperiment Content\n",
    "Preloading data and providing data apply to small amount of data. Running of mass data consumes much memory. In this condition, it is advised to read data from files. TensorFlow can read multiple types of files including CSV files, binary files, TFRecords files, and image files. In this experiment, TensorFlow reads CSV files."
   ]
  },
  {
   "cell_type": "code",
   "execution_count": 1,
   "metadata": {},
   "outputs": [
    {
     "name": "stderr",
     "output_type": "stream",
     "text": [
      "WARNING: Logging before flag parsing goes to stderr.\n",
      "W0816 09:57:47.262835  5260 deprecation.py:323] From <ipython-input-1-d99cf8031e5d>:7: string_input_producer (from tensorflow.python.training.input) is deprecated and will be removed in a future version.\n",
      "Instructions for updating:\n",
      "Queue-based input pipelines have been replaced by `tf.data`. Use `tf.data.Dataset.from_tensor_slices(string_tensor).shuffle(tf.shape(input_tensor, out_type=tf.int64)[0]).repeat(num_epochs)`. If `shuffle=False`, omit the `.shuffle(...)`.\n",
      "W0816 09:57:47.300796  5260 deprecation.py:323] From D:\\APPs\\Anaconda\\envs\\Jeary_lab\\lib\\site-packages\\tensorflow\\python\\training\\input.py:278: input_producer (from tensorflow.python.training.input) is deprecated and will be removed in a future version.\n",
      "Instructions for updating:\n",
      "Queue-based input pipelines have been replaced by `tf.data`. Use `tf.data.Dataset.from_tensor_slices(input_tensor).shuffle(tf.shape(input_tensor, out_type=tf.int64)[0]).repeat(num_epochs)`. If `shuffle=False`, omit the `.shuffle(...)`.\n",
      "W0816 09:57:47.304794  5260 deprecation.py:323] From D:\\APPs\\Anaconda\\envs\\Jeary_lab\\lib\\site-packages\\tensorflow\\python\\training\\input.py:190: limit_epochs (from tensorflow.python.training.input) is deprecated and will be removed in a future version.\n",
      "Instructions for updating:\n",
      "Queue-based input pipelines have been replaced by `tf.data`. Use `tf.data.Dataset.from_tensors(tensor).repeat(num_epochs)`.\n",
      "W0816 09:57:47.312788  5260 deprecation.py:323] From D:\\APPs\\Anaconda\\envs\\Jeary_lab\\lib\\site-packages\\tensorflow\\python\\training\\input.py:199: QueueRunner.__init__ (from tensorflow.python.training.queue_runner_impl) is deprecated and will be removed in a future version.\n",
      "Instructions for updating:\n",
      "To construct input pipelines, use the `tf.data` module.\n",
      "W0816 09:57:47.315788  5260 deprecation.py:323] From D:\\APPs\\Anaconda\\envs\\Jeary_lab\\lib\\site-packages\\tensorflow\\python\\training\\input.py:199: add_queue_runner (from tensorflow.python.training.queue_runner_impl) is deprecated and will be removed in a future version.\n",
      "Instructions for updating:\n",
      "To construct input pipelines, use the `tf.data` module.\n",
      "W0816 09:57:47.324782  5260 deprecation.py:323] From <ipython-input-1-d99cf8031e5d>:8: TextLineReader.__init__ (from tensorflow.python.ops.io_ops) is deprecated and will be removed in a future version.\n",
      "Instructions for updating:\n",
      "Queue-based input pipelines have been replaced by `tf.data`. Use `tf.data.TextLineDataset`.\n"
     ]
    }
   ],
   "source": [
    "#4.7\tExperimental Process\n",
    "#4.7.1\tSetting Encoding Declarations\n",
    "#coding:utf-8\n",
    "#4.7.2\tImporting a Module\n",
    "import tensorflow as tf\n",
    "#4.7.3\tReading Data from Files\n",
    "filename_queue = tf.train.string_input_producer([\"tf_read.csv\"])   #Read existing data.\n",
    "reader = tf.TextLineReader()"
   ]
  },
  {
   "cell_type": "markdown",
   "metadata": {},
   "source": [
    "There are 30 rows of data as follows in the file:\n",
    "-0.76\t15.67\t-0.12\t15.67\n",
    "-0.48\t12.52\t-0.06\t12.51\n",
    "1.33\t9.11\t0.12\t9.1\n",
    "-0.88\t20.35\t-0.18\t20.36\n",
    "-0.25\t3.99\t-0.01\t3.99\n",
    "-0.87\t26.25\t-0.23\t26.25\n",
    "-1.03\t2.87\t-0.03\t2.87\n",
    "-0.51\t7.81\t-0.04\t7.81\n",
    "-1.57\t14.46\t-0.23\t14.46\n",
    "-0.1\t10.02\t-0.01\t10.02\n",
    "-0.56\t8.92\t-0.05\t8.92\n",
    "-1.2\t4.1\t-0.05\t4.1\n",
    "-0.77\t5.15\t-0.04\t5.15\n",
    "-0.88\t4.48\t-0.04\t4.48\n",
    "-2.7\t10.82\t-0.3\t10.82\n",
    "-1.23\t2.4\t-0.03\t2.4\n",
    "-0.77\t5.16\t-0.04\t5.15\n",
    "-0.81\t6.15\t-0.05\t6.15\n",
    "-0.6\t5.01\t-0.03\t5\n",
    "-1.25\t4.75\t-0.06\t4.75\n",
    "-2.53\t7.31\t-0.19\t7.3\n",
    "-1.15\t16.39\t-0.19\t16.39\n",
    "-1.7\t5.19\t-0.09\t5.18\n",
    "-0.62\t3.23\t-0.02\t3.22\n",
    "-0.74\t17.43\t-0.13\t17.41\n",
    "-0.77\t15.41\t-0.12\t15.41\n",
    "0\t47\t0\t47.01\n",
    "0.25\t3.98\t0.01\t3.98\n",
    "-1.1\t9.01\t-0.1\t9.01\n",
    "-1.02\t3.87\t-0.04\t3.87"
   ]
  },
  {
   "cell_type": "code",
   "execution_count": 2,
   "metadata": {},
   "outputs": [],
   "source": [
    "#4.7.4\tGetting Queue Values\n",
    "#Get queue values.\n",
    "key, value = reader.read(filename_queue)\n",
    "#key represents the information of the read file and the number of rows.\n",
    "#value represents the raw strings read by row, which are sent to the decoder for decoding.\n",
    "#key represents the file information and the number of rows of the read data. value represents raw strings.\n",
    "record_defaults = [[1.], [1.], [1.], [1.]]#The data type here determines the type of data to be read, which should be in the list form.\n",
    "col1, col2, col3, col4 = tf.decode_csv(value, record_defaults=record_defaults)#Each parsed attribute is a scalar with the rank value of 0.\n",
    "features = tf.concat([[col1, col2, col3,col4]],0)"
   ]
  },
  {
   "cell_type": "code",
   "execution_count": 3,
   "metadata": {},
   "outputs": [],
   "source": [
    "#4.7.5\tInitializing Variables\n",
    "init_op = tf.global_variables_initializer()\n",
    "local_init_op = tf.local_variables_initializer()"
   ]
  },
  {
   "cell_type": "code",
   "execution_count": null,
   "metadata": {},
   "outputs": [
    {
     "name": "stderr",
     "output_type": "stream",
     "text": [
      "W0816 09:57:50.989770  5260 deprecation.py:323] From <ipython-input-4-6803729272fe>:9: start_queue_runners (from tensorflow.python.training.queue_runner_impl) is deprecated and will be removed in a future version.\n",
      "Instructions for updating:\n",
      "To construct input pipelines, use the `tf.data` module.\n"
     ]
    }
   ],
   "source": [
    "with tf.Session() as sess:\n",
    "#Start a session and perform initialization.\n",
    "    sess.run(init_op)\n",
    "    sess.run(local_init_op)\n",
    "\n",
    "# Start populating the filename queue.Start a coordinator.\n",
    "    coord = tf.train.Coordinator()\n",
    "#Run the start_queue_runners to feed the queue.\n",
    "    threads = tf.train.start_queue_runners(coord=coord)\n",
    "#\n",
    "    try:\n",
    "        for i in range(30):\n",
    "            example, label = sess.run([features])\n",
    "            print(example)\n",
    "            # print(label)\n",
    "    except tf.errors.OutOfRangeError:\n",
    "        print('Done !!!')\n",
    "#This exception appears when TensorFlow reads to the end of the file queue.\n",
    "    finally:       #Coordinator coord outputs signal for terminating all threads.\n",
    "        coord.request_stop()\n",
    "        print('all threads are asked to stop!')\n",
    "        coord.join(threads)\n",
    "        print('all threads are stopped!')\n",
    "\n",
    "#Run the coord.request_stop () command to terminate all threads. Run the coord.join (threads) to add threads to the main thread. Wait for the termination of threads."
   ]
  },
  {
   "cell_type": "markdown",
   "metadata": {},
   "source": [
    "4.8\tInstance Description\n",
    "This experiment selects functions based on the file type. To read data from CSV files, execute the TextLineReader and decode_csv operations. This experiment realizes data reading and processing by file operations.\n",
    " "
   ]
  },
  {
   "cell_type": "markdown",
   "metadata": {},
   "source": [
    "# 4 Graphic Operation\n",
    "4.9\tIntroduction to the Experiment  \n",
    "4.9.1\tAbout the Experiment  \n",
    "This experiment introduces operations of computation graph via several instances.  \n",
    "4.9.2\tObjectives of the Experiment  \n",
    "Understand graphic operations.  \n",
    "4.9.3\tExperiment Content  \n",
    "This experiment demonstrates how to create a graph and set it to the default graph. It uses the get_default_graph() function to get the current default graph and verifies the validity of its configurations.  \n",
    "This experiment shows how to get graph contents.  "
   ]
  },
  {
   "cell_type": "code",
   "execution_count": 1,
   "metadata": {},
   "outputs": [
    {
     "name": "stdout",
     "output_type": "stream",
     "text": [
      "<tensorflow.python.framework.ops.Graph object at 0x000002157283DAC8>\n",
      "<tensorflow.python.framework.ops.Graph object at 0x000002157283DAC8>\n",
      "<tensorflow.python.framework.ops.Graph object at 0x000002157283DB38>\n"
     ]
    }
   ],
   "source": [
    "#4.10\tExperimental Process\n",
    "# -*- coding: utf-8 -*-\n",
    "import numpy as np\n",
    "import tensorflow as tf\n",
    "#4.10.1\tCreating a Graph\n",
    "# 1 The way of creating a graph\n",
    "c = tf.constant(0.0)\n",
    "g = tf.Graph()\n",
    "with g.as_default():\n",
    "  c1 = tf.constant(0.0)\n",
    "  print(c1.graph)\n",
    "  print(g)\n",
    "  print(c.graph)"
   ]
  },
  {
   "cell_type": "code",
   "execution_count": 2,
   "metadata": {},
   "outputs": [
    {
     "name": "stdout",
     "output_type": "stream",
     "text": [
      "<tensorflow.python.framework.ops.Graph object at 0x000002157283DB38>\n"
     ]
    }
   ],
   "source": [
    "g2 =  tf.get_default_graph()\n",
    "print(g2)"
   ]
  },
  {
   "cell_type": "code",
   "execution_count": 3,
   "metadata": {},
   "outputs": [
    {
     "name": "stdout",
     "output_type": "stream",
     "text": [
      "<tensorflow.python.framework.ops.Graph object at 0x000002157283D128>\n"
     ]
    }
   ],
   "source": [
    "tf.reset_default_graph()\n",
    "g3 =  tf.get_default_graph()\n",
    "print(g3)"
   ]
  },
  {
   "cell_type": "code",
   "execution_count": 4,
   "metadata": {},
   "outputs": [
    {
     "name": "stdout",
     "output_type": "stream",
     "text": [
      "Const:0\n",
      "Tensor(\"Const:0\", shape=(), dtype=float32)\n"
     ]
    }
   ],
   "source": [
    "#4.10.2\tGetting the Tensor\n",
    "# 2.\t# 2 Get the tensor.\n",
    "print(c1.name)\n",
    "t = g.get_tensor_by_name(name = \"Const:0\")\n",
    "print(t)"
   ]
  },
  {
   "cell_type": "code",
   "execution_count": 5,
   "metadata": {},
   "outputs": [
    {
     "name": "stdout",
     "output_type": "stream",
     "text": [
      "exampleop:0 Tensor(\"exampleop:0\", shape=(1, 1), dtype=float32)\n",
      "Tensor(\"exampleop:0\", shape=(1, 1), dtype=float32)\n",
      "exampleop\n",
      "name: \"exampleop\"\n",
      "op: \"MatMul\"\n",
      "input: \"Const\"\n",
      "input: \"Const_1\"\n",
      "attr {\n",
      "  key: \"T\"\n",
      "  value {\n",
      "    type: DT_FLOAT\n",
      "  }\n",
      "}\n",
      "attr {\n",
      "  key: \"transpose_a\"\n",
      "  value {\n",
      "    b: false\n",
      "  }\n",
      "}\n",
      "attr {\n",
      "  key: \"transpose_b\"\n",
      "  value {\n",
      "    b: false\n",
      "  }\n",
      "}\n",
      "\n",
      "[[7.]]\n",
      "Tensor(\"exampleop:0\", shape=(1, 1), dtype=float32)\n"
     ]
    }
   ],
   "source": [
    "#4.10.3\tGetting an Operation\n",
    "# 3 Get an operation.\n",
    "a = tf.constant([[1.0, 2.0]])\n",
    "b = tf.constant([[1.0], [3.0]])\n",
    "\n",
    "tensor1 = tf.matmul(a, b, name='exampleop')\n",
    "print(tensor1.name,tensor1)\n",
    "test = g3.get_tensor_by_name(\"exampleop:0\")\n",
    "print(test)\n",
    "\n",
    "print(tensor1.op.name)\n",
    "testop = g3.get_operation_by_name(\"exampleop\")\n",
    "print(testop)\n",
    "\n",
    "\n",
    "with tf.Session() as sess:\n",
    "    test =  sess.run(test)\n",
    "    print(test)\n",
    "    test = tf.get_default_graph().get_tensor_by_name(\"exampleop:0\")\n",
    "    print (test)"
   ]
  },
  {
   "cell_type": "code",
   "execution_count": 6,
   "metadata": {},
   "outputs": [
    {
     "name": "stdout",
     "output_type": "stream",
     "text": [
      "[<tf.Operation 'Const' type=Const>]\n"
     ]
    }
   ],
   "source": [
    "#4.10.4\tGetting All Lists\n",
    "# 4 Get all lists.\n",
    "#Return the list of operating nodes in the graph.\n",
    "tt2 = g.get_operations()\n",
    "print(tt2)"
   ]
  },
  {
   "cell_type": "code",
   "execution_count": 7,
   "metadata": {},
   "outputs": [
    {
     "name": "stdout",
     "output_type": "stream",
     "text": [
      "Tensor(\"Const:0\", shape=(), dtype=float32)\n"
     ]
    }
   ],
   "source": [
    "#4.10.5\tGetting an Object\n",
    "# 5 Get an object.\n",
    "tt3 = g.as_graph_element(c1)\n",
    "print(tt3)"
   ]
  },
  {
   "cell_type": "markdown",
   "metadata": {},
   "source": [
    "4.11\tInstance Description\n",
    "To use the tf.reset_default_graph function, ensure that all the current graphs have been released. Otherwise, the system may report an error. You can find the corresponding elements by names. get_tensor_by_name allows you to get tensors in the graph.\n",
    "get_operation_by_name allows you to get node operations.\n",
    "get_operations allows you to get the list of elements.\n",
    "The tf.Graph.as_graph_element() function allows you to get elements by objects. After importing an object, you can get a tensor or an OP back. The as_graph_element function gets the real tensor object of c1 and assigns it to variable tt3.\n",
    "This experiment only introduces basic graphic operations.\n",
    " "
   ]
  }
 ],
 "metadata": {
  "kernelspec": {
   "display_name": "Jeary_lab",
   "language": "python",
   "name": "jeary_lab"
  },
  "language_info": {
   "codemirror_mode": {
    "name": "ipython",
    "version": 3
   },
   "file_extension": ".py",
   "mimetype": "text/x-python",
   "name": "python",
   "nbconvert_exporter": "python",
   "pygments_lexer": "ipython3",
   "version": "3.6.8"
  }
 },
 "nbformat": 4,
 "nbformat_minor": 2
}
